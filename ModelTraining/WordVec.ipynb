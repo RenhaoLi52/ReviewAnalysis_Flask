{
  "cells": [
    {
      "cell_type": "code",
      "execution_count": 3,
      "metadata": {
        "colab": {
          "base_uri": "https://localhost:8080/"
        },
        "id": "fUGA5Pxte25h",
        "outputId": "84079f4f-2ab6-4f5f-a0d2-a67b3b4b6dd8"
      },
      "outputs": [
        {
          "name": "stderr",
          "output_type": "stream",
          "text": [
            "/usr/local/lib/python3.10/dist-packages/sklearn/cluster/_kmeans.py:870: FutureWarning: The default value of `n_init` will change from 10 to 'auto' in 1.4. Set the value of `n_init` explicitly to suppress the warning\n",
            "  warnings.warn(\n"
          ]
        }
      ],
      "source": [
        "import pandas as pd\n",
        "from sklearn.feature_extraction.text import TfidfVectorizer\n",
        "from sklearn.cluster import KMeans\n",
        "from sklearn.metrics.pairwise import cosine_similarity\n",
        "import json\n",
        "import numpy as np\n",
        "from joblib import dump, load\n",
        "from gensim.models import Word2Vec\n",
        "\n",
        "reviews_df = pd.read_json('reviews_sampled.json')\n",
        "reviews = reviews_df['text'].tolist()\n",
        "with open('Tags.json', 'r') as file:\n",
        "    tags = json.load(file)['tags']\n",
        "\n",
        "def preprocess_text(text):\n",
        "    return text.lower()\n",
        "\n",
        "preprocessed_reviews = [preprocess_text(review) for review in reviews]\n",
        "\n",
        "tfidf_vectorizer = TfidfVectorizer(stop_words='english')\n",
        "tfidf_matrix = tfidf_vectorizer.fit_transform(preprocessed_reviews)\n",
        "\n",
        "# K-means\n",
        "num_clusters = 5\n",
        "kmeans = KMeans(n_clusters=num_clusters, random_state=42)\n",
        "kmeans.fit(tfidf_matrix)\n",
        "dump(kmeans, 'kmeans_model.joblib')  #save the K-means model\n",
        "dump(tfidf_vectorizer, 'tfidf_vectorizer.joblib')\n",
        "\n",
        "# Word2Vec model training and save\n",
        "clustered_reviews = [[] for _ in range(num_clusters)]\n",
        "for review, label in zip(reviews, kmeans.labels_):\n",
        "    clustered_reviews[label].append(review)\n",
        "\n",
        "models = []\n",
        "for i, texts in enumerate(clustered_reviews):\n",
        "    tokenized_texts = [text.split() for text in texts]\n",
        "    model = Word2Vec(sentences=tokenized_texts, vector_size=100, window=15, min_count=1, workers=4)\n",
        "    models.append(model)\n",
        "    model.save(f\"word2vec_model_cluster_{i}.model\")\n"
      ]
    },
    {
      "cell_type": "code",
      "execution_count": 4,
      "metadata": {
        "colab": {
          "base_uri": "https://localhost:8080/"
        },
        "id": "-bimk7tOg2LB",
        "outputId": "26f56222-8ac1-4377-d9d0-603882b755af"
      },
      "outputs": [
        {
          "name": "stdout",
          "output_type": "stream",
          "text": [
            "[('Kid-friendly', 0.16334255), ('Tasty', 0.1629617), ('Burnt', 0.15900302)]\n"
          ]
        }
      ],
      "source": [
        "#This is a example on how to use the models\n",
        "from joblib import load\n",
        "from gensim.models import Word2Vec\n",
        "from sklearn.feature_extraction.text import TfidfVectorizer\n",
        "# load K-means\n",
        "kmeans = load('kmeans_model.joblib')\n",
        "tfidf_vectorizer = load('tfidf_vectorizer.joblib')\n",
        "# load wordvec\n",
        "models = [Word2Vec.load(f'word2vec_model_cluster_{i}.model') for i in range(5)]\n",
        "\n",
        "def preprocess_text(text):\n",
        "    return text.lower()\n",
        "\n",
        "def find_closest_tags(text, model, tags, topn=3):\n",
        "    preprocessed_text = preprocess_text(text)\n",
        "    words = preprocessed_text.split()\n",
        "    valid_words = [word for word in words if word in model.wv.key_to_index]\n",
        "    if not valid_words:\n",
        "        return []\n",
        "\n",
        "    valid_tags = [tag for tag in tags if tag in model.wv.key_to_index]\n",
        "    tags_vectors = np.array([model.wv[tag] for tag in valid_tags])\n",
        "    similarities = []\n",
        "    for tag, tag_vector in zip(valid_tags, tags_vectors):\n",
        "        sim = np.mean([model.wv.similarity(word, tag) for word in valid_words])\n",
        "        similarities.append((tag, sim))\n",
        "\n",
        "    closest_tags = sorted(similarities, key=lambda x: -x[1])[:topn]\n",
        "    return closest_tags\n",
        "\n",
        "def predict_tags(text, kmeans, models, tfidf_vectorizer, tags, topn=3):\n",
        "    preprocessed_text = preprocess_text(text)\n",
        "    tfidf_vector = tfidf_vectorizer.transform([preprocessed_text])\n",
        "\n",
        "    cluster_label = kmeans.predict(tfidf_vector)[0]\n",
        "    word2vec_model = models[cluster_label]\n",
        "    return find_closest_tags(preprocessed_text, word2vec_model, tags, topn)\n",
        "\n",
        "with open('Tags.json', 'r') as file:\n",
        "    tags = json.load(file)['tags']\n",
        "\n",
        "new_text = \"This is a delicious and quaint Korean eatery located at the end jasper Ave, with lots of parking behind the building. I was greeted immediately at the door by more than one employee. Overall, the service was excellent. Our waiter was friendly and attentive but gave us just enough to space. The restaurant is medium sized but with a very nice set up and a bar in the back. It looks very clean with carefully thought out decor.\"\n",
        "predicted_tags = predict_tags(new_text, kmeans, models, tfidf_vectorizer, tags)\n",
        "print(predicted_tags)\n",
        "\n",
        "\n",
        "\n"
      ]
    }
  ],
  "metadata": {
    "accelerator": "GPU",
    "colab": {
      "gpuType": "V100",
      "provenance": []
    },
    "kernelspec": {
      "display_name": "Python 3",
      "name": "python3"
    },
    "language_info": {
      "name": "python"
    }
  },
  "nbformat": 4,
  "nbformat_minor": 0
}
